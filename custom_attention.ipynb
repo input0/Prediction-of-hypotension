{
 "cells": [
  {
   "cell_type": "code",
   "execution_count": 1,
   "id": "e1f6732f",
   "metadata": {},
   "outputs": [],
   "source": [
    "from __future__ import print_function\n",
    "from prefetch_generator import BackgroundGenerator, background,__doc__\n",
    "import tensorflow as tf\n",
    "import tensorflow_io as tfio\n",
    "import numpy as np"
   ]
  },
  {
   "cell_type": "code",
   "execution_count": 2,
   "id": "3597dacc",
   "metadata": {},
   "outputs": [
    {
     "name": "stdout",
     "output_type": "stream",
     "text": [
      "0 test\n",
      "1 test/x\n",
      "2 test/y\n",
      "0 train\n",
      "1 train/x\n",
      "2 train/y\n"
     ]
    }
   ],
   "source": [
    "from tensorflow.keras.utils import to_categorical\n",
    "import h5py\n",
    "\n",
    "\n",
    "\n",
    "\n",
    "\n",
    "\n",
    "\n",
    "BATCH_SIZE = 1024\n",
    "EPOCHS = 100\n",
    "testpath='C:\\\\Users\\\\Kim\\\\Documents\\\\졸업_논문_자료\\\\data\\\\data\\\\test_2021-12-21-12_22.hdf5'\n",
    "#trainpath='C:\\\\Users\\\\Kim\\\\Documents\\\\졸업_논문_자료\\\\data\\\\data\\\\training.hdf5'\n",
    "trainpath='C:\\\\Users\\\\Kim\\\\Documents\\\\졸업_논문_자료\\\\data\\\\data\\\\train_2021-12-21-12_20.hdf5'\n",
    "filetest=h5py.File(testpath,'r')\n",
    "filetrain=h5py.File(trainpath,'r')\n",
    "\n",
    "\n",
    "testkeys=[]\n",
    "filetest.visit(testkeys.append)\n",
    "\n",
    "trainkeys=[]\n",
    "filetrain.visit(trainkeys.append)\n",
    "\n",
    "for i, testkey in enumerate(testkeys):\n",
    "    print(i, testkey)\n",
    "for i, trainkey in enumerate(trainkeys):\n",
    "    print(i, trainkey)\n",
    "x_train=filetrain[trainkeys[1]]##\n",
    "y_train=filetrain[trainkeys[2]]##\n",
    "#y_train_cat = to_categorical(y_train,num_classes=3)\n",
    "x_test=filetest[testkeys[1]]\n",
    "y_test=filetest[testkeys[2]]\n",
    "y_test_cat=to_categorical(y_test,num_classes=3)\n"
    "#test\n"
   ]
  },
  {
   "cell_type": "code",
   "execution_count": 3,
   "id": "5fd47166",
   "metadata": {
    "scrolled": true
   },
   "outputs": [
    {
     "name": "stdout",
     "output_type": "stream",
     "text": [
      "4251\n"
     ]
    }
   ],
   "source": [
    "\n",
    "batch_s=4096\n",
    "\n",
    "@background(max_prefetch=500)\n",
    "def Hdf5_generator(X, y, batch_size):\n",
    "    nsamples = len(X)\n",
    "    start_idx = 0\n",
    "    while True:\n",
    "        if start_idx + batch_size > nsamples:\n",
    "            start_idx = 0\n",
    "        x_batch = X[start_idx:start_idx+batch_size, ...]\n",
    "        y_batch = y[start_idx:start_idx+batch_size, ...]\n",
    "        y_batch=to_categorical(y_batch,num_classes=3)\n",
    "        start_idx += batch_size\n",
    "        yield np.asarray(x_batch), np.asarray(y_batch)\n",
    "        \n",
    "        \n",
    "def focal_loss(y_true, y_pred):\n",
    "        import keras.backend as K\n",
    "        gamma=2.0\n",
    "        alpha=1.0\n",
    " \n",
    "        epsilon = K.epsilon()\n",
    "\n",
    "        y_pred = K.clip(y_pred, epsilon, 1.0-epsilon)\n",
    "\n",
    "        cross_entropy = -y_true*K.log(y_pred)\n",
    " \n",
    "        weight = K.pow((1-y_pred), gamma)\n",
    "\n",
    "        loss = weight * cross_entropy\n",
    "\n",
    "        loss = K.sum(loss, axis=1)\n",
    "        return loss\n",
    "        \n",
    "\n",
    "   \n",
    "        \n",
    "        \n",
    "training=Hdf5_generator(x_train, y_train, batch_s)\n",
    "size=x_train.shape[0]\n",
    "steps=size//batch_s\n",
    "print(steps)"
   ]
  },
  {
   "cell_type": "code",
   "execution_count": 4,
   "id": "c8ca4bcd",
   "metadata": {},
   "outputs": [],
   "source": [
    "\n",
    "TIME_STEPS = 60\n",
    "INPUT_DIM  = 7\n",
    "\n",
    "def attention(inputs):\n",
    "\n",
    "    input_dim = int(inputs.shape[2])\n",
    "    \n",
    "    a = tf.keras.layers.Permute((2, 1))(inputs) \n",
    "    \n",
    "    a = tf.keras.layers.Dense(120, activation='tanh')(a)\n",
    "    a = tf.keras.layers.Dense(TIME_STEPS, activation='softmax')(a)\n",
    "    \n",
    "    a_probs = tf.keras.layers.Permute((2, 1), name='attention_vec')(a)\n",
    "    \n",
    "    output_attention_mul  = tf.keras.layers.multiply([inputs, a_probs])\n",
    "\n",
    "    return output_attention_mul\n",
    "\n",
    "def model_attention():\n",
    "    import keras.backend as K\n",
    "    inputs        = tf.keras.Input(shape=(TIME_STEPS, INPUT_DIM,))\n",
    "    lstm_units    = 16\n",
    "    \n",
    "    lstm_out      = tf.keras.layers.Bidirectional(tf.keras.layers.LSTM(lstm_units, return_sequences=True),input_shape=(60,7))(inputs)\n",
    "    \n",
    "    attention_mul = attention(lstm_out)\n",
    "    result=tf.keras.layers.Lambda(lambda xin: K.sum(xin,axis=1), output_shape=(lstm_units*2,))(attention_mul)\n",
    "\n",
    "    model         = tf.keras.Model(inputs=[inputs], outputs=result)\n",
    "\n",
    "    return model\n",
    "\n",
    "\n"
   ]
  },
  {
   "cell_type": "code",
   "execution_count": 5,
   "id": "f5614c48",
   "metadata": {},
   "outputs": [
    {
     "name": "stdout",
     "output_type": "stream",
     "text": [
      "Model: \"sequential\"\n",
      "_________________________________________________________________\n",
      " Layer (type)                Output Shape              Param #   \n",
      "=================================================================\n",
      " model (Functional)          (None, 32)                17652     \n",
      "                                                                 \n",
      " dense_2 (Dense)             (None, 3)                 99        \n",
      "                                                                 \n",
      "=================================================================\n",
      "Total params: 17,751\n",
      "Trainable params: 17,751\n",
      "Non-trainable params: 0\n",
      "_________________________________________________________________\n"
     ]
    },
    {
     "data": {
      "text/plain": [
       "\"\\nimport keras\\nimport pydot\\nimport pydotplus\\nfrom pydotplus import graphviz\\nfrom keras.utils.vis_utils import plot_model\\nfrom keras.utils.vis_utils import model_to_dot\\nkeras.utils.vis_utils.pydot = pydot\\nplot_model(model,to_file='hi.png',show_shapes=True,show_layer_names=True)\\n\""
      ]
     },
     "execution_count": 5,
     "metadata": {},
     "output_type": "execute_result"
    }
   ],
   "source": [
    "from tensorflow.keras.models import Sequential\n",
    "from tensorflow.keras.layers import Dense\n",
    "from tensorflow.keras.layers import Flatten\n",
    "from tensorflow.keras.layers import Dropout\n",
    "from tensorflow.keras.layers import LSTM\n",
    "from tensorflow.keras.layers import Bidirectional\n",
    "from tensorflow.keras.layers import Conv1D\n",
    "from tensorflow.keras.layers import MaxPooling1D\n",
    "from tensorflow.keras.layers import GlobalMaxPooling1D\n",
    "from tensorflow.keras.layers import GlobalAveragePooling1D\n",
    "\n",
    "from tensorflow.keras import Model\n",
    "\n",
    "from tensorflow import keras\n",
    "from tensorflow.keras import layers\n",
    "\n",
    "leaky_relu = tf.nn.leaky_relu\n",
    "\n",
    "model = Sequential()\n",
    "#model.add(Bidirectional(LSTM(7, return_sequences=True),input_shape=(60,7)))\n",
    "model.add(model_attention())\n",
    "model.add(Dense(3, activation='softmax'))\n",
    "\n",
    "model.compile(optimizer='adam', loss=focal_loss, metrics=['accuracy'])\n",
    "\n",
    "\n",
    "model.summary()\n"
   ]
  },
  {
   "cell_type": "code",
   "execution_count": 6,
   "id": "d8dd2d03",
   "metadata": {},
   "outputs": [
    {
     "name": "stdout",
     "output_type": "stream",
     "text": [
      "WARNING:tensorflow:`period` argument is deprecated. Please use `save_freq` to specify the frequency in number of batches seen.\n",
      "Epoch 1/35\n",
      "WARNING:tensorflow:Early stopping conditioned on metric `val_loss` which is not available. Available metrics are: loss,accuracy\n",
      "WARNING:tensorflow:Can save best model only with val_acc available, skipping.\n",
      "4251/4251 - 92s - loss: 0.0823 - accuracy: 0.9009 - 92s/epoch - 22ms/step\n",
      "Epoch 2/35\n",
      "WARNING:tensorflow:Early stopping conditioned on metric `val_loss` which is not available. Available metrics are: loss,accuracy\n",
      "WARNING:tensorflow:Can save best model only with val_acc available, skipping.\n",
      "4251/4251 - 88s - loss: 0.0739 - accuracy: 0.9071 - 88s/epoch - 21ms/step\n",
      "Epoch 3/35\n",
      "WARNING:tensorflow:Early stopping conditioned on metric `val_loss` which is not available. Available metrics are: loss,accuracy\n",
      "WARNING:tensorflow:Can save best model only with val_acc available, skipping.\n",
      "4251/4251 - 88s - loss: 0.0732 - accuracy: 0.9074 - 88s/epoch - 21ms/step\n",
      "Epoch 4/35\n",
      "WARNING:tensorflow:Early stopping conditioned on metric `val_loss` which is not available. Available metrics are: loss,accuracy\n",
      "WARNING:tensorflow:Can save best model only with val_acc available, skipping.\n",
      "4251/4251 - 88s - loss: 0.0727 - accuracy: 0.9082 - 88s/epoch - 21ms/step\n",
      "Epoch 5/35\n",
      "WARNING:tensorflow:Early stopping conditioned on metric `val_loss` which is not available. Available metrics are: loss,accuracy\n",
      "WARNING:tensorflow:Can save best model only with val_acc available, skipping.\n",
      "4251/4251 - 88s - loss: 0.0723 - accuracy: 0.9089 - 88s/epoch - 21ms/step\n",
      "Epoch 6/35\n",
      "WARNING:tensorflow:Early stopping conditioned on metric `val_loss` which is not available. Available metrics are: loss,accuracy\n",
      "WARNING:tensorflow:Can save best model only with val_acc available, skipping.\n",
      "4251/4251 - 88s - loss: 0.0719 - accuracy: 0.9094 - 88s/epoch - 21ms/step\n",
      "Epoch 7/35\n",
      "WARNING:tensorflow:Early stopping conditioned on metric `val_loss` which is not available. Available metrics are: loss,accuracy\n",
      "WARNING:tensorflow:Can save best model only with val_acc available, skipping.\n",
      "4251/4251 - 88s - loss: 0.0717 - accuracy: 0.9092 - 88s/epoch - 21ms/step\n",
      "Epoch 8/35\n",
      "WARNING:tensorflow:Early stopping conditioned on metric `val_loss` which is not available. Available metrics are: loss,accuracy\n",
      "WARNING:tensorflow:Can save best model only with val_acc available, skipping.\n",
      "4251/4251 - 88s - loss: 0.0715 - accuracy: 0.9094 - 88s/epoch - 21ms/step\n",
      "Epoch 9/35\n",
      "WARNING:tensorflow:Early stopping conditioned on metric `val_loss` which is not available. Available metrics are: loss,accuracy\n",
      "WARNING:tensorflow:Can save best model only with val_acc available, skipping.\n",
      "4251/4251 - 88s - loss: 0.0715 - accuracy: 0.9090 - 88s/epoch - 21ms/step\n",
      "Epoch 10/35\n",
      "WARNING:tensorflow:Early stopping conditioned on metric `val_loss` which is not available. Available metrics are: loss,accuracy\n",
      "WARNING:tensorflow:Can save best model only with val_acc available, skipping.\n",
      "4251/4251 - 88s - loss: 0.0709 - accuracy: 0.9095 - 88s/epoch - 21ms/step\n",
      "Epoch 11/35\n",
      "WARNING:tensorflow:Early stopping conditioned on metric `val_loss` which is not available. Available metrics are: loss,accuracy\n",
      "WARNING:tensorflow:Can save best model only with val_acc available, skipping.\n",
      "4251/4251 - 88s - loss: 0.0710 - accuracy: 0.9088 - 88s/epoch - 21ms/step\n",
      "Epoch 12/35\n",
      "WARNING:tensorflow:Early stopping conditioned on metric `val_loss` which is not available. Available metrics are: loss,accuracy\n",
      "WARNING:tensorflow:Can save best model only with val_acc available, skipping.\n",
      "4251/4251 - 89s - loss: 0.0708 - accuracy: 0.9085 - 89s/epoch - 21ms/step\n",
      "Epoch 13/35\n",
      "WARNING:tensorflow:Early stopping conditioned on metric `val_loss` which is not available. Available metrics are: loss,accuracy\n",
      "WARNING:tensorflow:Can save best model only with val_acc available, skipping.\n",
      "4251/4251 - 89s - loss: 0.0706 - accuracy: 0.9093 - 89s/epoch - 21ms/step\n",
      "Epoch 14/35\n",
      "WARNING:tensorflow:Early stopping conditioned on metric `val_loss` which is not available. Available metrics are: loss,accuracy\n",
      "WARNING:tensorflow:Can save best model only with val_acc available, skipping.\n",
      "4251/4251 - 89s - loss: 0.0704 - accuracy: 0.9098 - 89s/epoch - 21ms/step\n",
      "Epoch 15/35\n",
      "WARNING:tensorflow:Early stopping conditioned on metric `val_loss` which is not available. Available metrics are: loss,accuracy\n",
      "WARNING:tensorflow:Can save best model only with val_acc available, skipping.\n",
      "4251/4251 - 88s - loss: 0.0706 - accuracy: 0.9086 - 88s/epoch - 21ms/step\n",
      "Epoch 16/35\n",
      "WARNING:tensorflow:Early stopping conditioned on metric `val_loss` which is not available. Available metrics are: loss,accuracy\n",
      "WARNING:tensorflow:Can save best model only with val_acc available, skipping.\n",
      "4251/4251 - 88s - loss: 0.0704 - accuracy: 0.9089 - 88s/epoch - 21ms/step\n",
      "Epoch 17/35\n",
      "WARNING:tensorflow:Early stopping conditioned on metric `val_loss` which is not available. Available metrics are: loss,accuracy\n",
      "WARNING:tensorflow:Can save best model only with val_acc available, skipping.\n",
      "4251/4251 - 88s - loss: 0.0702 - accuracy: 0.9099 - 88s/epoch - 21ms/step\n",
      "Epoch 18/35\n",
      "WARNING:tensorflow:Early stopping conditioned on metric `val_loss` which is not available. Available metrics are: loss,accuracy\n",
      "WARNING:tensorflow:Can save best model only with val_acc available, skipping.\n",
      "4251/4251 - 88s - loss: 0.0703 - accuracy: 0.9093 - 88s/epoch - 21ms/step\n",
      "Epoch 19/35\n",
      "WARNING:tensorflow:Early stopping conditioned on metric `val_loss` which is not available. Available metrics are: loss,accuracy\n",
      "WARNING:tensorflow:Can save best model only with val_acc available, skipping.\n",
      "4251/4251 - 89s - loss: 0.0702 - accuracy: 0.9098 - 89s/epoch - 21ms/step\n",
      "Epoch 20/35\n",
      "WARNING:tensorflow:Early stopping conditioned on metric `val_loss` which is not available. Available metrics are: loss,accuracy\n",
      "WARNING:tensorflow:Can save best model only with val_acc available, skipping.\n",
      "4251/4251 - 88s - loss: 0.0700 - accuracy: 0.9106 - 88s/epoch - 21ms/step\n",
      "Epoch 21/35\n",
      "WARNING:tensorflow:Early stopping conditioned on metric `val_loss` which is not available. Available metrics are: loss,accuracy\n",
      "WARNING:tensorflow:Can save best model only with val_acc available, skipping.\n",
      "4251/4251 - 88s - loss: 0.0699 - accuracy: 0.9106 - 88s/epoch - 21ms/step\n",
      "Epoch 22/35\n",
      "WARNING:tensorflow:Early stopping conditioned on metric `val_loss` which is not available. Available metrics are: loss,accuracy\n",
      "WARNING:tensorflow:Can save best model only with val_acc available, skipping.\n",
      "4251/4251 - 89s - loss: 0.0699 - accuracy: 0.9103 - 89s/epoch - 21ms/step\n",
      "Epoch 23/35\n",
      "WARNING:tensorflow:Early stopping conditioned on metric `val_loss` which is not available. Available metrics are: loss,accuracy\n",
      "WARNING:tensorflow:Can save best model only with val_acc available, skipping.\n",
      "4251/4251 - 88s - loss: 0.0697 - accuracy: 0.9111 - 88s/epoch - 21ms/step\n",
      "Epoch 24/35\n",
      "WARNING:tensorflow:Early stopping conditioned on metric `val_loss` which is not available. Available metrics are: loss,accuracy\n",
      "WARNING:tensorflow:Can save best model only with val_acc available, skipping.\n",
      "4251/4251 - 89s - loss: 0.0698 - accuracy: 0.9107 - 89s/epoch - 21ms/step\n",
      "Epoch 25/35\n",
      "WARNING:tensorflow:Early stopping conditioned on metric `val_loss` which is not available. Available metrics are: loss,accuracy\n",
      "WARNING:tensorflow:Can save best model only with val_acc available, skipping.\n",
      "4251/4251 - 88s - loss: 0.0697 - accuracy: 0.9110 - 88s/epoch - 21ms/step\n",
      "Epoch 26/35\n",
      "WARNING:tensorflow:Early stopping conditioned on metric `val_loss` which is not available. Available metrics are: loss,accuracy\n",
      "WARNING:tensorflow:Can save best model only with val_acc available, skipping.\n",
      "4251/4251 - 89s - loss: 0.0696 - accuracy: 0.9112 - 89s/epoch - 21ms/step\n",
      "Epoch 27/35\n",
      "WARNING:tensorflow:Early stopping conditioned on metric `val_loss` which is not available. Available metrics are: loss,accuracy\n",
      "WARNING:tensorflow:Can save best model only with val_acc available, skipping.\n",
      "4251/4251 - 90s - loss: 0.0695 - accuracy: 0.9112 - 90s/epoch - 21ms/step\n",
      "Epoch 28/35\n",
      "WARNING:tensorflow:Early stopping conditioned on metric `val_loss` which is not available. Available metrics are: loss,accuracy\n",
      "WARNING:tensorflow:Can save best model only with val_acc available, skipping.\n"
     ]
    },
    {
     "name": "stdout",
     "output_type": "stream",
     "text": [
      "4251/4251 - 89s - loss: 0.0695 - accuracy: 0.9112 - 89s/epoch - 21ms/step\n",
      "Epoch 29/35\n",
      "WARNING:tensorflow:Early stopping conditioned on metric `val_loss` which is not available. Available metrics are: loss,accuracy\n",
      "WARNING:tensorflow:Can save best model only with val_acc available, skipping.\n",
      "4251/4251 - 89s - loss: 0.0695 - accuracy: 0.9111 - 89s/epoch - 21ms/step\n",
      "Epoch 30/35\n",
      "WARNING:tensorflow:Early stopping conditioned on metric `val_loss` which is not available. Available metrics are: loss,accuracy\n",
      "WARNING:tensorflow:Can save best model only with val_acc available, skipping.\n",
      "4251/4251 - 89s - loss: 0.0694 - accuracy: 0.9114 - 89s/epoch - 21ms/step\n",
      "Epoch 31/35\n",
      "WARNING:tensorflow:Early stopping conditioned on metric `val_loss` which is not available. Available metrics are: loss,accuracy\n",
      "WARNING:tensorflow:Can save best model only with val_acc available, skipping.\n",
      "4251/4251 - 89s - loss: 0.0693 - accuracy: 0.9115 - 89s/epoch - 21ms/step\n",
      "Epoch 32/35\n",
      "WARNING:tensorflow:Early stopping conditioned on metric `val_loss` which is not available. Available metrics are: loss,accuracy\n",
      "WARNING:tensorflow:Can save best model only with val_acc available, skipping.\n",
      "4251/4251 - 88s - loss: 0.0692 - accuracy: 0.9115 - 88s/epoch - 21ms/step\n",
      "Epoch 33/35\n",
      "WARNING:tensorflow:Early stopping conditioned on metric `val_loss` which is not available. Available metrics are: loss,accuracy\n",
      "WARNING:tensorflow:Can save best model only with val_acc available, skipping.\n",
      "4251/4251 - 89s - loss: 0.0693 - accuracy: 0.9114 - 89s/epoch - 21ms/step\n",
      "Epoch 34/35\n",
      "WARNING:tensorflow:Early stopping conditioned on metric `val_loss` which is not available. Available metrics are: loss,accuracy\n",
      "WARNING:tensorflow:Can save best model only with val_acc available, skipping.\n",
      "4251/4251 - 89s - loss: 0.0692 - accuracy: 0.9116 - 89s/epoch - 21ms/step\n",
      "Epoch 35/35\n",
      "WARNING:tensorflow:Early stopping conditioned on metric `val_loss` which is not available. Available metrics are: loss,accuracy\n",
      "WARNING:tensorflow:Can save best model only with val_acc available, skipping.\n",
      "4251/4251 - 89s - loss: 0.0692 - accuracy: 0.9115 - 89s/epoch - 21ms/step\n"
     ]
    },
    {
     "data": {
      "text/plain": [
       "'\\njson = \\'network.json\\'\\nmodel_json = model.to_json()\\nwith open(json,\"w\") as json_file:\\n    json_file.write(model_json)\\n'"
      ]
     },
     "execution_count": 6,
     "metadata": {},
     "output_type": "execute_result"
    }
   ],
   "source": [
    "import os\n",
    "from tensorflow.keras import callbacks\n",
    "from tensorflow.keras.callbacks import EarlyStopping\n",
    "from keras.models import load_model\n",
    "from tensorflow.keras.utils import to_categorical\n",
    "\n",
    "\n",
    "class_weights ={0: 1.,\n",
    "               1: 10.,\n",
    "               2: 90.}\n",
    "\n",
    "\n",
    "epochs = 35\n",
    "verbosity =2\n",
    "#os.makedirs('XXXXXXX')\n",
    "#dirx = 'XXXXXXX'\n",
    "#os.chdir(dirx)\n",
    "h5 = 'network.h5'\n",
    "es = EarlyStopping(monitor='val_loss',mode='min',verbose=1,patience=25)\n",
    "checkpoint = callbacks.ModelCheckpoint(h5,\n",
    "                                       monitor='val_acc',\n",
    "                                       verbose=1,\n",
    "                                       save_best_only=True,\n",
    "                                      save_weights_only=True,\n",
    "                                      mode='max',\n",
    "                                      period=1)\n",
    "#x=X_train[:30000]\n",
    "#y=Y_train[:30000]\n",
    "#print(x.shape)\n",
    "#print(y.shape)\n",
    "callback = [checkpoint]\n",
    "\n",
    "history = model.fit(training,epochs=epochs,\n",
    "                              steps_per_epoch=steps,\n",
    "                   #validation_data=(X_vaild,Y_vaild),\n",
    "                              #class_weight = class_weights,\n",
    "                              verbose=verbosity,\n",
    "                              callbacks=[es,checkpoint])\n",
    "'''\n",
    "json = 'network.json'\n",
    "model_json = model.to_json()\n",
    "with open(json,\"w\") as json_file:\n",
    "    json_file.write(model_json)\n",
    "''' \n"
   ]
  },
  {
   "cell_type": "code",
   "execution_count": 7,
   "id": "66f0aee2",
   "metadata": {},
   "outputs": [],
   "source": [
    "#model.save('attentinlog.h5')"
   ]
  },
  {
   "cell_type": "code",
   "execution_count": 8,
   "id": "82bac2de",
   "metadata": {},
   "outputs": [],
   "source": [
    "#testing=Hdf5_testgenerator(x_test, 1024)\n",
    "y_test_cat=to_categorical(y_test,num_classes=3)\n",
    "testing=Hdf5_generator(x_test, y_test_cat, batch_s)"
   ]
  },
  {
   "cell_type": "code",
   "execution_count": 9,
   "id": "44aa5f4b",
   "metadata": {},
   "outputs": [
    {
     "name": "stdout",
     "output_type": "stream",
     "text": [
      "1896626\n",
      "463\n"
     ]
    },
    {
     "name": "stderr",
     "output_type": "stream",
     "text": [
      "C:\\Users\\Kim\\AppData\\Local\\Temp\\ipykernel_15600\\1028540377.py:7: UserWarning: `Model.predict_generator` is deprecated and will be removed in a future version. Please use `Model.predict`, which supports generators.\n",
      "  pred_test=model.predict_generator(testing,steps=steps)\n"
     ]
    },
    {
     "data": {
      "text/plain": [
       "(1896448, 3)"
      ]
     },
     "execution_count": 9,
     "metadata": {},
     "output_type": "execute_result"
    }
   ],
   "source": [
    "size=x_test.shape[0]\n",
    "steps=size//batch_s\n",
    "\n",
    "print(size)\n",
    "print(steps)\n",
    "\n",
    "pred_test=model.predict_generator(testing,steps=steps)\n",
    "\n",
    "pred_test.shape\n"
   ]
  },
  {
   "cell_type": "code",
   "execution_count": 10,
   "id": "6c747d74",
   "metadata": {},
   "outputs": [
    {
     "data": {
      "text/plain": [
       "(1896626, 3)"
      ]
     },
     "execution_count": 10,
     "metadata": {},
     "output_type": "execute_result"
    }
   ],
   "source": [
    "from tensorflow.keras.utils import to_categorical\n",
    "test_y=filetest[testkeys[2]]#test\n",
    "test_y_cat = to_categorical(test_y,num_classes=3)#testy\n",
    "test_y_cat.shape"
   ]
  },
  {
   "cell_type": "code",
   "execution_count": 11,
   "id": "e61679d6",
   "metadata": {
    "scrolled": true
   },
   "outputs": [
    {
     "name": "stdout",
     "output_type": "stream",
     "text": [
      "auc of 0: 0.8938821369198813\n",
      "ap of 0: 0.9845763691938855\n",
      "auc of 1: 0.9051778850651743\n",
      "ap of 1: 0.5459576376733464\n",
      "auc of 2: 0.9485709190397614\n",
      "ap of 2: 0.403691874415615\n"
     ]
    },
    {
     "data": {
      "image/png": "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\n",
      "text/plain": [
       "<Figure size 432x288 with 1 Axes>"
      ]
     },
     "metadata": {
      "needs_background": "light"
     },
     "output_type": "display_data"
    },
    {
     "data": {
      "image/png": "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\n",
      "text/plain": [
       "<Figure size 432x288 with 1 Axes>"
      ]
     },
     "metadata": {
      "needs_background": "light"
     },
     "output_type": "display_data"
    },
    {
     "data": {
      "image/png": "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\n",
      "text/plain": [
       "<Figure size 432x288 with 1 Axes>"
      ]
     },
     "metadata": {
      "needs_background": "light"
     },
     "output_type": "display_data"
    },
    {
     "data": {
      "image/png": "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\n",
      "text/plain": [
       "<Figure size 432x288 with 1 Axes>"
      ]
     },
     "metadata": {
      "needs_background": "light"
     },
     "output_type": "display_data"
    },
    {
     "data": {
      "image/png": "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\n",
      "text/plain": [
       "<Figure size 432x288 with 1 Axes>"
      ]
     },
     "metadata": {
      "needs_background": "light"
     },
     "output_type": "display_data"
    },
    {
     "data": {
      "image/png": "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\n",
      "text/plain": [
       "<Figure size 432x288 with 1 Axes>"
      ]
     },
     "metadata": {
      "needs_background": "light"
     },
     "output_type": "display_data"
    }
   ],
   "source": [
    "from sklearn.metrics import precision_recall_curve\n",
    "from sklearn.metrics import roc_curve \n",
    "from sklearn.metrics import roc_auc_score \n",
    "from sklearn.metrics import average_precision_score \n",
    "import matplotlib.pyplot as plt\n",
    "fpr,tpr,threshold=roc_curve(y_test_cat[:steps*batch_s,0],pred_test[:,0])\n",
    "precision,recall,thres =precision_recall_curve(y_test_cat[:steps*batch_s,0],pred_test[:,0])\n",
    "\n",
    "\n",
    "plt.figure(4) \n",
    "plt.plot(fpr,tpr,linewidth=2) \n",
    "plt.plot([0,1],[0,1],'k--')\n",
    "plt.title(\"0_roc\")\n",
    "\n",
    "plt.figure(3)\n",
    "plt.plot(recall,precision,linewidth=2) \n",
    "plt.title(\"0_ap\")\n",
    "\n",
    "\n",
    "pp=roc_auc_score(y_test_cat[:steps*batch_s,0],pred_test[:,0])\n",
    "ap=average_precision_score(y_test_cat[:steps*batch_s,0],pred_test[:,0])\n",
    "print(\"auc of 0: \"+str(pp))\n",
    "print(\"ap of 0: \"+str(ap))\n",
    "\n",
    "fpr,tpr,threshold=roc_curve(y_test_cat[:steps*batch_s,1],pred_test[:,1])\n",
    "precision,recall,thres =precision_recall_curve(y_test_cat[:steps*batch_s,1],pred_test[:,1])\n",
    "\n",
    "plt.figure(5) \n",
    "plt.plot(fpr,tpr,linewidth=2) \n",
    "plt.plot([0,1],[0,1],'k--')\n",
    "plt.title(\"1_roc\")\n",
    "\n",
    "plt.figure(2)\n",
    "plt.plot(recall,precision,linewidth=2) \n",
    "plt.title(\"1_ap\")\n",
    "\n",
    "pp=roc_auc_score(y_test_cat[:steps*batch_s,1],pred_test[:,1])\n",
    "ap=average_precision_score(y_test_cat[:steps*batch_s,1],pred_test[:,1])\n",
    "print(\"auc of 1: \"+str(pp))\n",
    "print(\"ap of 1: \"+str(ap))\n",
    "\n",
    "fpr,tpr,threshold=roc_curve(y_test_cat[:steps*batch_s,2],pred_test[:,2])\n",
    "precision,recall,thres =precision_recall_curve(y_test_cat[:steps*batch_s,2],pred_test[:,2])\n",
    "\n",
    "plt.figure(6) \n",
    "plt.plot(fpr,tpr,linewidth=2) \n",
    "plt.plot([0,1],[0,1],'k--')\n",
    "plt.title(\"2_roc\")\n",
    "\n",
    "plt.figure(1)\n",
    "plt.plot(recall,precision,linewidth=2) \n",
    "plt.title(\"2_ap\")\n",
    "\n",
    "pp=roc_auc_score(y_test_cat[:steps*batch_s,2],pred_test[:,2])\n",
    "ap=average_precision_score(y_test_cat[:steps*batch_s,2],pred_test[:,2])\n",
    "print(\"auc of 2: \"+str(pp))\n",
    "print(\"ap of 2: \"+str(ap))"
   ]
  },
  {
   "cell_type": "code",
   "execution_count": null,
   "id": "10217e9a",
   "metadata": {},
   "outputs": [],
   "source": []
  },
  {
   "cell_type": "code",
   "execution_count": null,
   "id": "9407e2bd",
   "metadata": {},
   "outputs": [],
   "source": []
  }
 ],
 "metadata": {
  "kernelspec": {
   "display_name": "Python 3 (ipykernel)",
   "language": "python",
   "name": "python3"
  },
  "language_info": {
   "codemirror_mode": {
    "name": "ipython",
    "version": 3
   },
   "file_extension": ".py",
   "mimetype": "text/x-python",
   "name": "python",
   "nbconvert_exporter": "python",
   "pygments_lexer": "ipython3",
   "version": "3.8.12"
  }
 },
 "nbformat": 4,
 "nbformat_minor": 5
}
