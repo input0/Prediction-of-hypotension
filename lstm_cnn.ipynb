{
 "cells": [
  {
   "cell_type": "code",
   "execution_count": 1,
   "id": "e1f6732f",
   "metadata": {},
   "outputs": [],
   "source": [
    "from __future__ import print_function\n",
    "from prefetch_generator import BackgroundGenerator, background,__doc__\n",
    "import tensorflow as tf\n",
    "import tensorflow_io as tfio\n",
    "import numpy as np"
   ]
  },
  {
   "cell_type": "code",
   "execution_count": 2,
   "id": "3597dacc",
   "metadata": {},
   "outputs": [
    {
     "name": "stdout",
     "output_type": "stream",
     "text": [
      "0 test\n",
      "1 test/x\n",
      "2 test/y\n",
      "0 train\n",
      "1 train/x\n",
      "2 train/y\n"
     ]
    }
   ],
   "source": [
    "from tensorflow.keras.utils import to_categorical\n",
    "import h5py\n",
    "\n",
    "\n",
    "\n",
    "\n",
    "\n",
    "\n",
    "\n",
    "BATCH_SIZE = 1024\n",
    "EPOCHS = 100\n",
    "testpath='C:\\\\Users\\\\Kim\\\\Documents\\\\졸업_논문_자료\\\\data\\\\data\\\\test_2021-12-21-12_22.hdf5'\n",
    "\n",
    "trainpath='C:\\\\Users\\\\Kim\\\\Documents\\\\졸업_논문_자료\\\\data\\\\data\\\\train_2021-12-21-12_20.hdf5'\n",
    "filetest=h5py.File(testpath,'r')\n",
    "filetrain=h5py.File(trainpath,'r')\n",
    "\n",
    "\n",
    "testkeys=[]\n",
    "filetest.visit(testkeys.append)\n",
    "\n",
    "trainkeys=[]\n",
    "filetrain.visit(trainkeys.append)\n",
    "\n",
    "for i, testkey in enumerate(testkeys):\n",
    "    print(i, testkey)\n",
    "for i, trainkey in enumerate(trainkeys):\n",
    "    print(i, trainkey)\n",
    "x_train=filetrain[trainkeys[1]]##\n",
    "y_train=filetrain[trainkeys[2]]##\n",
    "\n",
    "x_test=filetest[testkeys[1]]\n",
    "y_test=filetest[testkeys[2]]\n",
    "y_test_cat=to_categorical(y_test,num_classes=3)\n"
   ]
  },
  {
   "cell_type": "code",
   "execution_count": 3,
   "id": "5fd47166",
   "metadata": {
    "scrolled": true
   },
   "outputs": [
    {
     "name": "stdout",
     "output_type": "stream",
     "text": [
      "4251\n"
     ]
    }
   ],
   "source": [
    "\n",
    "batch_s=4096\n",
    "\n",
    "@background(max_prefetch=500)\n",
    "def Hdf5_generator(X, y, batch_size):\n",
    "    nsamples = len(X)\n",
    "    start_idx = 0\n",
    "    while True:\n",
    "        if start_idx + batch_size > nsamples:\n",
    "            start_idx = 0\n",
    "        x_batch = X[start_idx:start_idx+batch_size, ...]\n",
    "        y_batch = y[start_idx:start_idx+batch_size, ...]\n",
    "        y_batch=to_categorical(y_batch,num_classes=3)\n",
    "        start_idx += batch_size\n",
    "        yield np.asarray(x_batch), np.asarray(y_batch)\n",
    "        \n",
    "        \n",
    "def focal_loss(y_true, y_pred):\n",
    "        import keras.backend as K\n",
    "        gamma=2.0\n",
    "        alpha=1.0\n",
    "\n",
    "        epsilon = K.epsilon()\n",
    "\n",
    "        y_pred = K.clip(y_pred, epsilon, 1.0-epsilon)\n",
    "\n",
    "        cross_entropy = -y_true*K.log(y_pred)\n",
    "\n",
    "        weight = alpha * y_true * K.pow((1-y_pred), gamma)\n",
    "\n",
    "        loss = weight * cross_entropy\n",
    "\n",
    "        loss = K.sum(loss, axis=1)\n",
    "        return loss\n",
    "        \n",
    "\n",
    "   \n",
    "        \n",
    "        \n",
    "training=Hdf5_generator(x_train, y_train, batch_s)\n",
    "size=x_train.shape[0]\n",
    "steps=size//batch_s\n",
    "print(steps)"
   ]
  },
  {
   "cell_type": "code",
   "execution_count": 5,
   "id": "f5614c48",
   "metadata": {},
   "outputs": [],
   "source": [
    "from tensorflow.keras.models import Sequential\n",
    "from tensorflow.keras.layers import Dense\n",
    "from tensorflow.keras.layers import Dropout\n",
    "from tensorflow.keras.layers import LSTM\n",
    "from tensorflow.keras.layers import Conv1D\n",
    "from tensorflow.keras.layers import MaxPooling1D\n",
    "\n",
    "\n",
    "\n",
    "leaky_relu = tf.nn.leaky_relu\n",
    "\n",
    "model = Sequential()\n",
    "model.add(Dropout(0.2))\n",
    "model.add(Conv1D(16,\n",
    "\t     3,\n",
    "                 padding='valid',\n",
    "                 activation='relu',\n",
    "                 strides=1))\n",
    "model.add(MaxPooling1D(pool_size=4))\n",
    "model.add(LSTM(16))\n",
    "model.add(Dense(3, activation='softmax'))\n",
    "\n",
    "model.compile(loss='categorical_crossentropy', optimizer='adam',metrics='accuracy')\n",
    "\n"
   ]
  },
  {
   "cell_type": "code",
   "execution_count": 6,
   "id": "d8dd2d03",
   "metadata": {},
   "outputs": [
    {
     "name": "stdout",
     "output_type": "stream",
     "text": [
      "WARNING:tensorflow:`period` argument is deprecated. Please use `save_freq` to specify the frequency in number of batches seen.\n",
      "Epoch 1/35\n",
      "WARNING:tensorflow:Early stopping conditioned on metric `val_loss` which is not available. Available metrics are: loss,accuracy\n",
      "WARNING:tensorflow:Can save best model only with val_acc available, skipping.\n",
      "4251/4251 - 38s - loss: 0.2661 - accuracy: 0.9006 - 38s/epoch - 9ms/step\n",
      "Epoch 2/35\n",
      "WARNING:tensorflow:Early stopping conditioned on metric `val_loss` which is not available. Available metrics are: loss,accuracy\n",
      "WARNING:tensorflow:Can save best model only with val_acc available, skipping.\n",
      "4251/4251 - 40s - loss: 0.2478 - accuracy: 0.9064 - 40s/epoch - 10ms/step\n",
      "Epoch 3/35\n",
      "WARNING:tensorflow:Early stopping conditioned on metric `val_loss` which is not available. Available metrics are: loss,accuracy\n",
      "WARNING:tensorflow:Can save best model only with val_acc available, skipping.\n",
      "4251/4251 - 41s - loss: 0.2453 - accuracy: 0.9074 - 41s/epoch - 10ms/step\n",
      "Epoch 4/35\n",
      "WARNING:tensorflow:Early stopping conditioned on metric `val_loss` which is not available. Available metrics are: loss,accuracy\n",
      "WARNING:tensorflow:Can save best model only with val_acc available, skipping.\n",
      "4251/4251 - 40s - loss: 0.2439 - accuracy: 0.9079 - 40s/epoch - 10ms/step\n",
      "Epoch 5/35\n",
      "WARNING:tensorflow:Early stopping conditioned on metric `val_loss` which is not available. Available metrics are: loss,accuracy\n",
      "WARNING:tensorflow:Can save best model only with val_acc available, skipping.\n",
      "4251/4251 - 41s - loss: 0.2429 - accuracy: 0.9083 - 41s/epoch - 10ms/step\n",
      "Epoch 6/35\n",
      "WARNING:tensorflow:Early stopping conditioned on metric `val_loss` which is not available. Available metrics are: loss,accuracy\n",
      "WARNING:tensorflow:Can save best model only with val_acc available, skipping.\n",
      "4251/4251 - 41s - loss: 0.2421 - accuracy: 0.9086 - 41s/epoch - 10ms/step\n",
      "Epoch 7/35\n",
      "WARNING:tensorflow:Early stopping conditioned on metric `val_loss` which is not available. Available metrics are: loss,accuracy\n",
      "WARNING:tensorflow:Can save best model only with val_acc available, skipping.\n",
      "4251/4251 - 40s - loss: 0.2414 - accuracy: 0.9088 - 40s/epoch - 10ms/step\n",
      "Epoch 8/35\n",
      "WARNING:tensorflow:Early stopping conditioned on metric `val_loss` which is not available. Available metrics are: loss,accuracy\n",
      "WARNING:tensorflow:Can save best model only with val_acc available, skipping.\n",
      "4251/4251 - 40s - loss: 0.2407 - accuracy: 0.9090 - 40s/epoch - 10ms/step\n",
      "Epoch 9/35\n",
      "WARNING:tensorflow:Early stopping conditioned on metric `val_loss` which is not available. Available metrics are: loss,accuracy\n",
      "WARNING:tensorflow:Can save best model only with val_acc available, skipping.\n",
      "4251/4251 - 41s - loss: 0.2400 - accuracy: 0.9092 - 41s/epoch - 10ms/step\n",
      "Epoch 10/35\n",
      "WARNING:tensorflow:Early stopping conditioned on metric `val_loss` which is not available. Available metrics are: loss,accuracy\n",
      "WARNING:tensorflow:Can save best model only with val_acc available, skipping.\n",
      "4251/4251 - 41s - loss: 0.2396 - accuracy: 0.9093 - 41s/epoch - 10ms/step\n",
      "Epoch 11/35\n",
      "WARNING:tensorflow:Early stopping conditioned on metric `val_loss` which is not available. Available metrics are: loss,accuracy\n",
      "WARNING:tensorflow:Can save best model only with val_acc available, skipping.\n",
      "4251/4251 - 40s - loss: 0.2392 - accuracy: 0.9095 - 40s/epoch - 10ms/step\n",
      "Epoch 12/35\n",
      "WARNING:tensorflow:Early stopping conditioned on metric `val_loss` which is not available. Available metrics are: loss,accuracy\n",
      "WARNING:tensorflow:Can save best model only with val_acc available, skipping.\n",
      "4251/4251 - 40s - loss: 0.2389 - accuracy: 0.9096 - 40s/epoch - 9ms/step\n",
      "Epoch 13/35\n",
      "WARNING:tensorflow:Early stopping conditioned on metric `val_loss` which is not available. Available metrics are: loss,accuracy\n",
      "WARNING:tensorflow:Can save best model only with val_acc available, skipping.\n",
      "4251/4251 - 41s - loss: 0.2387 - accuracy: 0.9097 - 41s/epoch - 10ms/step\n",
      "Epoch 14/35\n",
      "WARNING:tensorflow:Early stopping conditioned on metric `val_loss` which is not available. Available metrics are: loss,accuracy\n",
      "WARNING:tensorflow:Can save best model only with val_acc available, skipping.\n",
      "4251/4251 - 40s - loss: 0.2384 - accuracy: 0.9098 - 40s/epoch - 10ms/step\n",
      "Epoch 15/35\n",
      "WARNING:tensorflow:Early stopping conditioned on metric `val_loss` which is not available. Available metrics are: loss,accuracy\n",
      "WARNING:tensorflow:Can save best model only with val_acc available, skipping.\n",
      "4251/4251 - 40s - loss: 0.2382 - accuracy: 0.9099 - 40s/epoch - 10ms/step\n",
      "Epoch 16/35\n",
      "WARNING:tensorflow:Early stopping conditioned on metric `val_loss` which is not available. Available metrics are: loss,accuracy\n",
      "WARNING:tensorflow:Can save best model only with val_acc available, skipping.\n",
      "4251/4251 - 41s - loss: 0.2380 - accuracy: 0.9099 - 41s/epoch - 10ms/step\n",
      "Epoch 17/35\n",
      "WARNING:tensorflow:Early stopping conditioned on metric `val_loss` which is not available. Available metrics are: loss,accuracy\n",
      "WARNING:tensorflow:Can save best model only with val_acc available, skipping.\n",
      "4251/4251 - 40s - loss: 0.2378 - accuracy: 0.9100 - 40s/epoch - 10ms/step\n",
      "Epoch 18/35\n",
      "WARNING:tensorflow:Early stopping conditioned on metric `val_loss` which is not available. Available metrics are: loss,accuracy\n",
      "WARNING:tensorflow:Can save best model only with val_acc available, skipping.\n",
      "4251/4251 - 40s - loss: 0.2376 - accuracy: 0.9100 - 40s/epoch - 9ms/step\n",
      "Epoch 19/35\n",
      "WARNING:tensorflow:Early stopping conditioned on metric `val_loss` which is not available. Available metrics are: loss,accuracy\n",
      "WARNING:tensorflow:Can save best model only with val_acc available, skipping.\n",
      "4251/4251 - 40s - loss: 0.2374 - accuracy: 0.9101 - 40s/epoch - 10ms/step\n",
      "Epoch 20/35\n",
      "WARNING:tensorflow:Early stopping conditioned on metric `val_loss` which is not available. Available metrics are: loss,accuracy\n",
      "WARNING:tensorflow:Can save best model only with val_acc available, skipping.\n",
      "4251/4251 - 41s - loss: 0.2372 - accuracy: 0.9101 - 41s/epoch - 10ms/step\n",
      "Epoch 21/35\n",
      "WARNING:tensorflow:Early stopping conditioned on metric `val_loss` which is not available. Available metrics are: loss,accuracy\n",
      "WARNING:tensorflow:Can save best model only with val_acc available, skipping.\n",
      "4251/4251 - 40s - loss: 0.2371 - accuracy: 0.9101 - 40s/epoch - 10ms/step\n",
      "Epoch 22/35\n",
      "WARNING:tensorflow:Early stopping conditioned on metric `val_loss` which is not available. Available metrics are: loss,accuracy\n",
      "WARNING:tensorflow:Can save best model only with val_acc available, skipping.\n",
      "4251/4251 - 40s - loss: 0.2369 - accuracy: 0.9102 - 40s/epoch - 9ms/step\n",
      "Epoch 23/35\n",
      "WARNING:tensorflow:Early stopping conditioned on metric `val_loss` which is not available. Available metrics are: loss,accuracy\n",
      "WARNING:tensorflow:Can save best model only with val_acc available, skipping.\n",
      "4251/4251 - 40s - loss: 0.2368 - accuracy: 0.9102 - 40s/epoch - 10ms/step\n",
      "Epoch 24/35\n",
      "WARNING:tensorflow:Early stopping conditioned on metric `val_loss` which is not available. Available metrics are: loss,accuracy\n",
      "WARNING:tensorflow:Can save best model only with val_acc available, skipping.\n",
      "4251/4251 - 40s - loss: 0.2367 - accuracy: 0.9103 - 40s/epoch - 10ms/step\n",
      "Epoch 25/35\n",
      "WARNING:tensorflow:Early stopping conditioned on metric `val_loss` which is not available. Available metrics are: loss,accuracy\n",
      "WARNING:tensorflow:Can save best model only with val_acc available, skipping.\n",
      "4251/4251 - 40s - loss: 0.2366 - accuracy: 0.9103 - 40s/epoch - 9ms/step\n",
      "Epoch 26/35\n",
      "WARNING:tensorflow:Early stopping conditioned on metric `val_loss` which is not available. Available metrics are: loss,accuracy\n",
      "WARNING:tensorflow:Can save best model only with val_acc available, skipping.\n",
      "4251/4251 - 41s - loss: 0.2365 - accuracy: 0.9104 - 41s/epoch - 10ms/step\n",
      "Epoch 27/35\n",
      "WARNING:tensorflow:Early stopping conditioned on metric `val_loss` which is not available. Available metrics are: loss,accuracy\n",
      "WARNING:tensorflow:Can save best model only with val_acc available, skipping.\n",
      "4251/4251 - 41s - loss: 0.2364 - accuracy: 0.9104 - 41s/epoch - 10ms/step\n",
      "Epoch 28/35\n",
      "WARNING:tensorflow:Early stopping conditioned on metric `val_loss` which is not available. Available metrics are: loss,accuracy\n",
      "WARNING:tensorflow:Can save best model only with val_acc available, skipping.\n"
     ]
    },
    {
     "name": "stdout",
     "output_type": "stream",
     "text": [
      "4251/4251 - 40s - loss: 0.2363 - accuracy: 0.9104 - 40s/epoch - 9ms/step\n",
      "Epoch 29/35\n",
      "WARNING:tensorflow:Early stopping conditioned on metric `val_loss` which is not available. Available metrics are: loss,accuracy\n",
      "WARNING:tensorflow:Can save best model only with val_acc available, skipping.\n",
      "4251/4251 - 40s - loss: 0.2362 - accuracy: 0.9105 - 40s/epoch - 9ms/step\n",
      "Epoch 30/35\n",
      "WARNING:tensorflow:Early stopping conditioned on metric `val_loss` which is not available. Available metrics are: loss,accuracy\n",
      "WARNING:tensorflow:Can save best model only with val_acc available, skipping.\n",
      "4251/4251 - 41s - loss: 0.2361 - accuracy: 0.9105 - 41s/epoch - 10ms/step\n",
      "Epoch 31/35\n",
      "WARNING:tensorflow:Early stopping conditioned on metric `val_loss` which is not available. Available metrics are: loss,accuracy\n",
      "WARNING:tensorflow:Can save best model only with val_acc available, skipping.\n",
      "4251/4251 - 40s - loss: 0.2361 - accuracy: 0.9105 - 40s/epoch - 10ms/step\n",
      "Epoch 32/35\n",
      "WARNING:tensorflow:Early stopping conditioned on metric `val_loss` which is not available. Available metrics are: loss,accuracy\n",
      "WARNING:tensorflow:Can save best model only with val_acc available, skipping.\n",
      "4251/4251 - 40s - loss: 0.2360 - accuracy: 0.9106 - 40s/epoch - 10ms/step\n",
      "Epoch 33/35\n",
      "WARNING:tensorflow:Early stopping conditioned on metric `val_loss` which is not available. Available metrics are: loss,accuracy\n",
      "WARNING:tensorflow:Can save best model only with val_acc available, skipping.\n",
      "4251/4251 - 40s - loss: 0.2359 - accuracy: 0.9106 - 40s/epoch - 10ms/step\n",
      "Epoch 34/35\n",
      "WARNING:tensorflow:Early stopping conditioned on metric `val_loss` which is not available. Available metrics are: loss,accuracy\n",
      "WARNING:tensorflow:Can save best model only with val_acc available, skipping.\n",
      "4251/4251 - 40s - loss: 0.2359 - accuracy: 0.9106 - 40s/epoch - 10ms/step\n",
      "Epoch 35/35\n",
      "WARNING:tensorflow:Early stopping conditioned on metric `val_loss` which is not available. Available metrics are: loss,accuracy\n",
      "WARNING:tensorflow:Can save best model only with val_acc available, skipping.\n",
      "4251/4251 - 40s - loss: 0.2358 - accuracy: 0.9106 - 40s/epoch - 10ms/step\n",
      "Model: \"sequential\"\n",
      "_________________________________________________________________\n",
      " Layer (type)                Output Shape              Param #   \n",
      "=================================================================\n",
      " dropout (Dropout)           (None, None, None)        0         \n",
      "                                                                 \n",
      " conv1d (Conv1D)             (None, None, 16)          352       \n",
      "                                                                 \n",
      " max_pooling1d (MaxPooling1D  (None, None, 16)         0         \n",
      " )                                                               \n",
      "                                                                 \n",
      " lstm (LSTM)                 (None, 16)                2112      \n",
      "                                                                 \n",
      " dense (Dense)               (None, 3)                 51        \n",
      "                                                                 \n",
      "=================================================================\n",
      "Total params: 2,515\n",
      "Trainable params: 2,515\n",
      "Non-trainable params: 0\n",
      "_________________________________________________________________\n"
     ]
    }
   ],
   "source": [
    "import os\n",
    "from tensorflow.keras import callbacks\n",
    "from tensorflow.keras.callbacks import EarlyStopping\n",
    "from keras.models import load_model\n",
    "from tensorflow.keras.utils import to_categorical\n",
    "\n",
    "\n",
    "class_weights ={0: 1.,\n",
    "               1: 10.,\n",
    "               2: 90.}\n",
    "\n",
    "\n",
    "epochs = 35\n",
    "verbosity =2\n",
    "\n",
    "h5 = 'network.h5'\n",
    "es = EarlyStopping(monitor='val_loss',mode='min',verbose=1,patience=25)\n",
    "checkpoint = callbacks.ModelCheckpoint(h5,\n",
    "                                       monitor='val_acc',\n",
    "                                       verbose=1,\n",
    "                                       save_best_only=True,\n",
    "                                      save_weights_only=True,\n",
    "                                      mode='max',\n",
    "                                      period=1)\n",
    "\n",
    "callback = [checkpoint]\n",
    "\n",
    "history = model.fit(training,epochs=epochs,\n",
    "                              steps_per_epoch=steps,\n",
    "\n",
    "                              verbose=verbosity,\n",
    "                              callbacks=[es,checkpoint])\n",
    "\n",
    "model.summary()"
   ]
  },
  {
   "cell_type": "code",
   "execution_count": 7,
   "id": "66f0aee2",
   "metadata": {},
   "outputs": [],
   "source": [
    "model.save('bilstm_with_cnn.h5')"
   ]
  },
  {
   "cell_type": "code",
   "execution_count": 8,
   "id": "82bac2de",
   "metadata": {},
   "outputs": [],
   "source": [
    "#testing=Hdf5_testgenerator(x_test, 1024)\n",
    "y_test_cat=to_categorical(y_test,num_classes=3)\n",
    "testing=Hdf5_generator(x_test, y_test_cat, batch_s)"
   ]
  },
  {
   "cell_type": "code",
   "execution_count": 9,
   "id": "44aa5f4b",
   "metadata": {},
   "outputs": [
    {
     "name": "stdout",
     "output_type": "stream",
     "text": [
      "1896626\n",
      "463\n"
     ]
    },
    {
     "name": "stderr",
     "output_type": "stream",
     "text": [
      "C:\\Users\\Kim\\AppData\\Local\\Temp\\ipykernel_16884\\4202106848.py:6: UserWarning: `Model.predict_generator` is deprecated and will be removed in a future version. Please use `Model.predict`, which supports generators.\n",
      "  pred_test=model.predict_generator(testing,steps=steps)\n"
     ]
    },
    {
     "data": {
      "text/plain": [
       "(1896448, 3)"
      ]
     },
     "execution_count": 9,
     "metadata": {},
     "output_type": "execute_result"
    }
   ],
   "source": [
    "size=x_test.shape[0]\n",
    "steps=size//batch_s\n",
    "\n",
    "print(size)\n",
    "print(steps)\n",
    "pred_test=model.predict_generator(testing,steps=steps)\n",
    "pred_test.shape"
   ]
  },
  {
   "cell_type": "code",
   "execution_count": 10,
   "id": "6c747d74",
   "metadata": {},
   "outputs": [
    {
     "data": {
      "text/plain": [
       "(1896626, 3)"
      ]
     },
     "execution_count": 10,
     "metadata": {},
     "output_type": "execute_result"
    }
   ],
   "source": [
    "from tensorflow.keras.utils import to_categorical\n",
    "test_y=filetest[testkeys[2]]#test\n",
    "test_y_cat = to_categorical(test_y,num_classes=3)#testy\n",
    "test_y_cat.shape"
   ]
  },
  {
   "cell_type": "code",
   "execution_count": 11,
   "id": "e61679d6",
   "metadata": {
    "scrolled": true
   },
   "outputs": [
    {
     "name": "stdout",
     "output_type": "stream",
     "text": [
      "auc of 0: 0.8802492739556922\n",
      "ap of 0: 0.9826445041656023\n",
      "auc of 1: 0.9020931023828196\n",
      "ap of 1: 0.5223423054968677\n",
      "auc of 2: 0.9400791666337254\n",
      "ap of 2: 0.22520414946660322\n"
     ]
    },
    {
     "data": {
      "image/png": "[encoded data removed]",
      "text/plain": [
       "<Figure size 432x288 with 1 Axes>"
      ]
     },
     "metadata": {
      "needs_background": "light"
     },
     "output_type": "display_data"
    },
    {
     "data": {
      "image/png": "[encoded data removed]",
      "text/plain": [
       "<Figure size 432x288 with 1 Axes>"
      ]
     },
     "metadata": {
      "needs_background": "light"
     },
     "output_type": "display_data"
    },
    {
     "data": {
      "image/png": "[encoded data removed]",
      "text/plain": [
       "<Figure size 432x288 with 1 Axes>"
      ]
     },
     "metadata": {
      "needs_background": "light"
     },
     "output_type": "display_data"
    },
    {
     "data": {
      "image/png": "[encoded data removed]",
      "text/plain": [
       "<Figure size 432x288 with 1 Axes>"
      ]
     },
     "metadata": {
      "needs_background": "light"
     },
     "output_type": "display_data"
    },
    {
     "data": {
      "image/png": "[encoded data removed]",
      "text/plain": [
       "<Figure size 432x288 with 1 Axes>"
      ]
     },
     "metadata": {
      "needs_background": "light"
     },
     "output_type": "display_data"
    },
    {
     "data": {
      "image/png": "[encoded data removed]",
      "text/plain": [
       "<Figure size 432x288 with 1 Axes>"
      ]
     },
     "metadata": {
      "needs_background": "light"
     },
     "output_type": "display_data"
    }
   ],
   "source": [
    "from sklearn.metrics import precision_recall_curve\n",
    "from sklearn.metrics import roc_curve \n",
    "from sklearn.metrics import roc_auc_score \n",
    "from sklearn.metrics import average_precision_score \n",
    "import matplotlib.pyplot as plt\n",
    "fpr,tpr,threshold=roc_curve(y_test_cat[:steps*batch_s,0],pred_test[:,0])\n",
    "precision,recall,thres =precision_recall_curve(y_test_cat[:steps*batch_s,0],pred_test[:,0])\n",
    "\n",
    "\n",
    "plt.figure(4) \n",
    "plt.plot(fpr,tpr,linewidth=2) \n",
    "plt.plot([0,1],[0,1],'k--')\n",
    "plt.title(\"0_roc\")\n",
    "\n",
    "plt.figure(3)\n",
    "plt.plot(recall,precision,linewidth=2) \n",
    "plt.title(\"0_ap\")\n",
    "\n",
    "\n",
    "pp=roc_auc_score(y_test_cat[:steps*batch_s,0],pred_test[:,0])\n",
    "ap=average_precision_score(y_test_cat[:steps*batch_s,0],pred_test[:,0])\n",
    "print(\"auc of 0: \"+str(pp))\n",
    "print(\"ap of 0: \"+str(ap))\n",
    "\n",
    "fpr,tpr,threshold=roc_curve(y_test_cat[:steps*batch_s,1],pred_test[:,1])\n",
    "precision,recall,thres =precision_recall_curve(y_test_cat[:steps*batch_s,1],pred_test[:,1])\n",
    "\n",
    "plt.figure(5) \n",
    "plt.plot(fpr,tpr,linewidth=2) \n",
    "plt.plot([0,1],[0,1],'k--')\n",
    "plt.title(\"1_roc\")\n",
    "\n",
    "plt.figure(2)\n",
    "plt.plot(recall,precision,linewidth=2) \n",
    "plt.title(\"1_ap\")\n",
    "\n",
    "pp=roc_auc_score(y_test_cat[:steps*batch_s,1],pred_test[:,1])\n",
    "ap=average_precision_score(y_test_cat[:steps*batch_s,1],pred_test[:,1])\n",
    "print(\"auc of 1: \"+str(pp))\n",
    "print(\"ap of 1: \"+str(ap))\n",
    "\n",
    "fpr,tpr,threshold=roc_curve(y_test_cat[:steps*batch_s,2],pred_test[:,2])\n",
    "precision,recall,thres =precision_recall_curve(y_test_cat[:steps*batch_s,2],pred_test[:,2])\n",
    "\n",
    "plt.figure(6) \n",
    "plt.plot(fpr,tpr,linewidth=2) \n",
    "plt.plot([0,1],[0,1],'k--')\n",
    "plt.title(\"2_roc\")\n",
    "\n",
    "plt.figure(1)\n",
    "plt.plot(recall,precision,linewidth=2) \n",
    "plt.title(\"2_ap\")\n",
    "\n",
    "pp=roc_auc_score(y_test_cat[:steps*batch_s,2],pred_test[:,2])\n",
    "ap=average_precision_score(y_test_cat[:steps*batch_s,2],pred_test[:,2])\n",
    "print(\"auc of 2: \"+str(pp))\n",
    "print(\"ap of 2: \"+str(ap))"
   ]
  },
  {
   "cell_type": "code",
   "execution_count": null,
   "id": "10217e9a",
   "metadata": {},
   "outputs": [],
   "source": []
  },
  {
   "cell_type": "code",
   "execution_count": null,
   "id": "9407e2bd",
   "metadata": {},
   "outputs": [],
   "source": []
  }
 ],
 "metadata": {
  "kernelspec": {
   "display_name": "Python 3 (ipykernel)",
   "language": "python",
   "name": "python3"
  },
  "language_info": {
   "codemirror_mode": {
    "name": "ipython",
    "version": 3
   },
   "file_extension": ".py",
   "mimetype": "text/x-python",
   "name": "python",
   "nbconvert_exporter": "python",
   "pygments_lexer": "ipython3",
   "version": "3.8.12"
  }
 },
 "nbformat": 4,
 "nbformat_minor": 5
}
